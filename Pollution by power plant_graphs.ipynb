{
 "cells": [
  {
   "cell_type": "code",
   "execution_count": 10,
   "metadata": {},
   "outputs": [],
   "source": [
    "import requests\n",
    "import pandas as pd\n",
    "import numpy as np\n",
    "import matplotlib.pyplot as plt\n",
    "\n",
    "from scipy.stats import linregress\n",
    "\n"
   ]
  },
  {
   "cell_type": "code",
   "execution_count": 11,
   "metadata": {},
   "outputs": [
    {
     "data": {
      "text/html": [
       "<div>\n",
       "<style scoped>\n",
       "    .dataframe tbody tr th:only-of-type {\n",
       "        vertical-align: middle;\n",
       "    }\n",
       "\n",
       "    .dataframe tbody tr th {\n",
       "        vertical-align: top;\n",
       "    }\n",
       "\n",
       "    .dataframe thead th {\n",
       "        text-align: right;\n",
       "    }\n",
       "</style>\n",
       "<table border=\"1\" class=\"dataframe\">\n",
       "  <thead>\n",
       "    <tr style=\"text-align: right;\">\n",
       "      <th></th>\n",
       "      <th>City</th>\n",
       "      <th>Climate Classification</th>\n",
       "      <th>Lat</th>\n",
       "      <th>Lon</th>\n",
       "      <th>Country</th>\n",
       "      <th>Population</th>\n",
       "      <th>Air Quality Index US</th>\n",
       "      <th>Number of Power Plants within 1 degree Lat/Lon</th>\n",
       "    </tr>\n",
       "  </thead>\n",
       "  <tbody>\n",
       "    <tr>\n",
       "      <th>0</th>\n",
       "      <td>Fuzhou</td>\n",
       "      <td>Cfa</td>\n",
       "      <td>27.9814</td>\n",
       "      <td>116.3577</td>\n",
       "      <td>China</td>\n",
       "      <td>4047200.0</td>\n",
       "      <td>37</td>\n",
       "      <td>14</td>\n",
       "    </tr>\n",
       "    <tr>\n",
       "      <th>1</th>\n",
       "      <td>Huaihua</td>\n",
       "      <td>Cfa</td>\n",
       "      <td>27.5494</td>\n",
       "      <td>109.9592</td>\n",
       "      <td>China</td>\n",
       "      <td>4979600.0</td>\n",
       "      <td>57</td>\n",
       "      <td>32</td>\n",
       "    </tr>\n",
       "    <tr>\n",
       "      <th>2</th>\n",
       "      <td>Sydney</td>\n",
       "      <td>Cfa</td>\n",
       "      <td>-33.8650</td>\n",
       "      <td>151.2094</td>\n",
       "      <td>Australia</td>\n",
       "      <td>4840600.0</td>\n",
       "      <td>5</td>\n",
       "      <td>31</td>\n",
       "    </tr>\n",
       "    <tr>\n",
       "      <th>3</th>\n",
       "      <td>Anqing</td>\n",
       "      <td>Cfa</td>\n",
       "      <td>30.5000</td>\n",
       "      <td>117.0333</td>\n",
       "      <td>China</td>\n",
       "      <td>4723000.0</td>\n",
       "      <td>50</td>\n",
       "      <td>20</td>\n",
       "    </tr>\n",
       "    <tr>\n",
       "      <th>4</th>\n",
       "      <td>Melbourne</td>\n",
       "      <td>Cfa</td>\n",
       "      <td>-37.8136</td>\n",
       "      <td>144.9631</td>\n",
       "      <td>Australia</td>\n",
       "      <td>4529500.0</td>\n",
       "      <td>44</td>\n",
       "      <td>25</td>\n",
       "    </tr>\n",
       "    <tr>\n",
       "      <th>5</th>\n",
       "      <td>Xiaoxita</td>\n",
       "      <td>Cfa</td>\n",
       "      <td>30.7083</td>\n",
       "      <td>111.2803</td>\n",
       "      <td>China</td>\n",
       "      <td>4137900.0</td>\n",
       "      <td>61</td>\n",
       "      <td>21</td>\n",
       "    </tr>\n",
       "  </tbody>\n",
       "</table>\n",
       "</div>"
      ],
      "text/plain": [
       "        City Climate Classification      Lat       Lon    Country  Population  \\\n",
       "0     Fuzhou                    Cfa  27.9814  116.3577      China   4047200.0   \n",
       "1    Huaihua                    Cfa  27.5494  109.9592      China   4979600.0   \n",
       "2     Sydney                    Cfa -33.8650  151.2094  Australia   4840600.0   \n",
       "3     Anqing                    Cfa  30.5000  117.0333      China   4723000.0   \n",
       "4  Melbourne                    Cfa -37.8136  144.9631  Australia   4529500.0   \n",
       "5   Xiaoxita                    Cfa  30.7083  111.2803      China   4137900.0   \n",
       "\n",
       "   Air Quality Index US  Number of Power Plants within 1 degree Lat/Lon  \n",
       "0                    37                                              14  \n",
       "1                    57                                              32  \n",
       "2                     5                                              31  \n",
       "3                    50                                              20  \n",
       "4                    44                                              25  \n",
       "5                    61                                              21  "
      ]
     },
     "execution_count": 11,
     "metadata": {},
     "output_type": "execute_result"
    }
   ],
   "source": [
    "# Loan CSV file generated\n",
    "aq_pp = \"./Clean_Data/AirQuality_PowerPlants.csv\"\n",
    "aq_pp_df = pd.read_csv(aq_pp)\n",
    "\n",
    "aq_pp_df"
   ]
  },
  {
   "cell_type": "code",
   "execution_count": 12,
   "metadata": {},
   "outputs": [
    {
     "data": {
      "image/png": "[encoded data removed]",
      "text/plain": [
       "<Figure size 432x288 with 1 Axes>"
      ]
     },
     "metadata": {
      "needs_background": "light"
     },
     "output_type": "display_data"
    }
   ],
   "source": [
    "#set data to plot\n",
    "x = aq_pp_df[\"Air Quality Index US\"]\n",
    "y = aq_pp_df[\"Number of Power Plants within 1 degree Lat/Lon\"]\n",
    "\n",
    "plt.scatter(x,y,edgecolors=\"black\",facecolors=\"red\")\n",
    "#add gridlines\n",
    "plt.grid()\n",
    "#add titles and axis labels\n",
    "plt.title(f\"Air Quality vs No. Power Plants\")\n",
    "plt.xlabel(\"Air Quality\")\n",
    "plt.ylabel(\"No. Power Plants\")\n",
    "\n",
    "#export as png\n",
    "plt.savefig(f'./PowerPlants_Graphs/Air Quality vs No. Power Plants.png')\n",
    "#display plot!\n",
    "plt.show()\n",
    "\n",
    "\n"
   ]
  }
 ],
 "metadata": {
  "kernelspec": {
   "display_name": "Python 3.7.13 ('bootcamp')",
   "language": "python",
   "name": "python3"
  },
  "language_info": {
   "codemirror_mode": {
    "name": "ipython",
    "version": 3
   },
   "file_extension": ".py",
   "mimetype": "text/x-python",
   "name": "python",
   "nbconvert_exporter": "python",
   "pygments_lexer": "ipython3",
   "version": "3.7.13"
  },
  "orig_nbformat": 4,
  "vscode": {
   "interpreter": {
    "hash": "f46a3ea41c4a4970c660721f06144115104716cb52441bcd71170d52c9befc3b"
   }
  }
 },
 "nbformat": 4,
 "nbformat_minor": 2
}
