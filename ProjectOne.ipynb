{
 "cells": [
  {
   "cell_type": "code",
   "execution_count": 1,
   "metadata": {},
   "outputs": [],
   "source": [
    "from config import API_Key\n",
    "from config import gkey\n",
    "\n",
    "import pandas as pd\n",
    "import geopandas as gpd\n",
    "\n",
    "import requests\n",
    "import json\n",
    "from citipy import citipy"
   ]
  },
  {
   "cell_type": "code",
   "execution_count": 2,
   "metadata": {},
   "outputs": [
    {
     "name": "stdout",
     "output_type": "stream",
     "text": [
      "{\n",
      "    \"data\": {\n",
      "        \"city\": \"Los Angeles\",\n",
      "        \"country\": \"USA\",\n",
      "        \"current\": {\n",
      "            \"pollution\": {\n",
      "                \"aqicn\": 37,\n",
      "                \"aqius\": 80,\n",
      "                \"maincn\": \"p2\",\n",
      "                \"mainus\": \"p2\",\n",
      "                \"ts\": \"2022-06-16T12:00:00.000Z\"\n",
      "            },\n",
      "            \"weather\": {\n",
      "                \"hu\": 85,\n",
      "                \"ic\": \"04n\",\n",
      "                \"pr\": 1009,\n",
      "                \"tp\": 18,\n",
      "                \"ts\": \"2022-06-16T12:00:00.000Z\",\n",
      "                \"wd\": 0,\n",
      "                \"ws\": 0\n",
      "            }\n",
      "        },\n",
      "        \"location\": {\n",
      "            \"coordinates\": [\n",
      "                -118.2417,\n",
      "                34.0669\n",
      "            ],\n",
      "            \"type\": \"Point\"\n",
      "        },\n",
      "        \"state\": \"California\"\n",
      "    },\n",
      "    \"status\": \"success\"\n",
      "}\n"
     ]
    }
   ],
   "source": [
    "url = f\"http://api.airvisual.com/v2/city?city=Los Angeles&state=California&country=USA&key={API_Key}\"\n",
    "response=requests.get(url)\n",
    "data=response.json()\n",
    "print(json.dumps(data,indent=4,sort_keys=4))"
   ]
  },
  {
   "cell_type": "code",
   "execution_count": 3,
   "metadata": {},
   "outputs": [
    {
     "data": {
      "text/html": [
       "<div>\n",
       "<style scoped>\n",
       "    .dataframe tbody tr th:only-of-type {\n",
       "        vertical-align: middle;\n",
       "    }\n",
       "\n",
       "    .dataframe tbody tr th {\n",
       "        vertical-align: top;\n",
       "    }\n",
       "\n",
       "    .dataframe thead th {\n",
       "        text-align: right;\n",
       "    }\n",
       "</style>\n",
       "<table border=\"1\" class=\"dataframe\">\n",
       "  <thead>\n",
       "    <tr style=\"text-align: right;\">\n",
       "      <th></th>\n",
       "      <th>Lat</th>\n",
       "      <th>Lon</th>\n",
       "      <th>Cls</th>\n",
       "    </tr>\n",
       "  </thead>\n",
       "  <tbody>\n",
       "    <tr>\n",
       "      <th>0</th>\n",
       "      <td>-89.75</td>\n",
       "      <td>-179.75</td>\n",
       "      <td>EF</td>\n",
       "    </tr>\n",
       "    <tr>\n",
       "      <th>1</th>\n",
       "      <td>-89.75</td>\n",
       "      <td>-179.25</td>\n",
       "      <td>EF</td>\n",
       "    </tr>\n",
       "    <tr>\n",
       "      <th>2</th>\n",
       "      <td>-89.75</td>\n",
       "      <td>-178.75</td>\n",
       "      <td>EF</td>\n",
       "    </tr>\n",
       "    <tr>\n",
       "      <th>3</th>\n",
       "      <td>-89.75</td>\n",
       "      <td>-178.25</td>\n",
       "      <td>EF</td>\n",
       "    </tr>\n",
       "    <tr>\n",
       "      <th>4</th>\n",
       "      <td>-89.75</td>\n",
       "      <td>-177.75</td>\n",
       "      <td>EF</td>\n",
       "    </tr>\n",
       "    <tr>\n",
       "      <th>...</th>\n",
       "      <td>...</td>\n",
       "      <td>...</td>\n",
       "      <td>...</td>\n",
       "    </tr>\n",
       "    <tr>\n",
       "      <th>92411</th>\n",
       "      <td>83.75</td>\n",
       "      <td>-30.75</td>\n",
       "      <td>ET</td>\n",
       "    </tr>\n",
       "    <tr>\n",
       "      <th>92412</th>\n",
       "      <td>83.75</td>\n",
       "      <td>-30.25</td>\n",
       "      <td>ET</td>\n",
       "    </tr>\n",
       "    <tr>\n",
       "      <th>92413</th>\n",
       "      <td>83.75</td>\n",
       "      <td>-29.75</td>\n",
       "      <td>ET</td>\n",
       "    </tr>\n",
       "    <tr>\n",
       "      <th>92414</th>\n",
       "      <td>83.75</td>\n",
       "      <td>-29.25</td>\n",
       "      <td>ET</td>\n",
       "    </tr>\n",
       "    <tr>\n",
       "      <th>92415</th>\n",
       "      <td>83.75</td>\n",
       "      <td>-28.75</td>\n",
       "      <td>ET</td>\n",
       "    </tr>\n",
       "  </tbody>\n",
       "</table>\n",
       "<p>92416 rows × 3 columns</p>\n",
       "</div>"
      ],
      "text/plain": [
       "         Lat     Lon Cls\n",
       "0     -89.75 -179.75  EF\n",
       "1     -89.75 -179.25  EF\n",
       "2     -89.75 -178.75  EF\n",
       "3     -89.75 -178.25  EF\n",
       "4     -89.75 -177.75  EF\n",
       "...      ...     ...  ..\n",
       "92411  83.75  -30.75  ET\n",
       "92412  83.75  -30.25  ET\n",
       "92413  83.75  -29.75  ET\n",
       "92414  83.75  -29.25  ET\n",
       "92415  83.75  -28.75  ET\n",
       "\n",
       "[92416 rows x 3 columns]"
      ]
     },
     "execution_count": 3,
     "metadata": {},
     "output_type": "execute_result"
    }
   ],
   "source": [
    "filepath=\"Climate_Data/ClimateClassifications.csv\"\n",
    "climate_df=pd.read_csv(filepath)\n",
    "climate_df"
   ]
  },
  {
   "cell_type": "code",
   "execution_count": 4,
   "metadata": {},
   "outputs": [
    {
     "data": {
      "text/html": [
       "<div>\n",
       "<style scoped>\n",
       "    .dataframe tbody tr th:only-of-type {\n",
       "        vertical-align: middle;\n",
       "    }\n",
       "\n",
       "    .dataframe tbody tr th {\n",
       "        vertical-align: top;\n",
       "    }\n",
       "\n",
       "    .dataframe thead th {\n",
       "        text-align: right;\n",
       "    }\n",
       "</style>\n",
       "<table border=\"1\" class=\"dataframe\">\n",
       "  <thead>\n",
       "    <tr style=\"text-align: right;\">\n",
       "      <th></th>\n",
       "      <th>Lat</th>\n",
       "      <th>Lon</th>\n",
       "      <th>Cls</th>\n",
       "      <th>geometry</th>\n",
       "    </tr>\n",
       "  </thead>\n",
       "  <tbody>\n",
       "    <tr>\n",
       "      <th>0</th>\n",
       "      <td>-89.75</td>\n",
       "      <td>-179.75</td>\n",
       "      <td>EF</td>\n",
       "      <td>POINT (-179.75000 -89.75000)</td>\n",
       "    </tr>\n",
       "    <tr>\n",
       "      <th>1</th>\n",
       "      <td>-89.75</td>\n",
       "      <td>-179.25</td>\n",
       "      <td>EF</td>\n",
       "      <td>POINT (-179.25000 -89.75000)</td>\n",
       "    </tr>\n",
       "    <tr>\n",
       "      <th>2</th>\n",
       "      <td>-89.75</td>\n",
       "      <td>-178.75</td>\n",
       "      <td>EF</td>\n",
       "      <td>POINT (-178.75000 -89.75000)</td>\n",
       "    </tr>\n",
       "    <tr>\n",
       "      <th>3</th>\n",
       "      <td>-89.75</td>\n",
       "      <td>-178.25</td>\n",
       "      <td>EF</td>\n",
       "      <td>POINT (-178.25000 -89.75000)</td>\n",
       "    </tr>\n",
       "    <tr>\n",
       "      <th>4</th>\n",
       "      <td>-89.75</td>\n",
       "      <td>-177.75</td>\n",
       "      <td>EF</td>\n",
       "      <td>POINT (-177.75000 -89.75000)</td>\n",
       "    </tr>\n",
       "  </tbody>\n",
       "</table>\n",
       "</div>"
      ],
      "text/plain": [
       "     Lat     Lon Cls                      geometry\n",
       "0 -89.75 -179.75  EF  POINT (-179.75000 -89.75000)\n",
       "1 -89.75 -179.25  EF  POINT (-179.25000 -89.75000)\n",
       "2 -89.75 -178.75  EF  POINT (-178.75000 -89.75000)\n",
       "3 -89.75 -178.25  EF  POINT (-178.25000 -89.75000)\n",
       "4 -89.75 -177.75  EF  POINT (-177.75000 -89.75000)"
      ]
     },
     "execution_count": 4,
     "metadata": {},
     "output_type": "execute_result"
    }
   ],
   "source": [
    "geo_climate_df=gpd.GeoDataFrame(climate_df,geometry=gpd.points_from_xy(climate_df.Lon, climate_df.Lat))\n",
    "geo_climate_df.head()"
   ]
  },
  {
   "cell_type": "code",
   "execution_count": 5,
   "metadata": {},
   "outputs": [
    {
     "name": "stdout",
     "output_type": "stream",
     "text": [
      "\n",
      "    City: Melbourne, Australia\n",
      "    Latitude: -37.8136276\n",
      "    Longitude: 144.9630576\n",
      "    \n"
     ]
    }
   ],
   "source": [
    "target_city = \"Melbourne, Australia\"\n",
    "\n",
    "target_url = f\"https://maps.googleapis.com/maps/api/geocode/json?address={target_city}&key={gkey}\"\n",
    "geo_data = requests.get(target_url).json()\n",
    "\n",
    "# Extract latitude and longitude\n",
    "lat = geo_data[\"results\"][0][\"geometry\"][\"location\"][\"lat\"]\n",
    "lng = geo_data[\"results\"][0][\"geometry\"][\"location\"][\"lng\"]\n",
    "\n",
    "# Print the latitude and longitude\n",
    "print('''\n",
    "    City: {0}\n",
    "    Latitude: {1}\n",
    "    Longitude: {2}\n",
    "    '''.format(target_city, lat, lng))"
   ]
  },
  {
   "cell_type": "code",
   "execution_count": 6,
   "metadata": {},
   "outputs": [
    {
     "data": {
      "text/html": [
       "<div>\n",
       "<style scoped>\n",
       "    .dataframe tbody tr th:only-of-type {\n",
       "        vertical-align: middle;\n",
       "    }\n",
       "\n",
       "    .dataframe tbody tr th {\n",
       "        vertical-align: top;\n",
       "    }\n",
       "\n",
       "    .dataframe thead th {\n",
       "        text-align: right;\n",
       "    }\n",
       "</style>\n",
       "<table border=\"1\" class=\"dataframe\">\n",
       "  <thead>\n",
       "    <tr style=\"text-align: right;\">\n",
       "      <th></th>\n",
       "      <th>lat</th>\n",
       "      <th>lng</th>\n",
       "      <th>target_city</th>\n",
       "    </tr>\n",
       "  </thead>\n",
       "  <tbody>\n",
       "    <tr>\n",
       "      <th>0</th>\n",
       "      <td>-37.813628</td>\n",
       "      <td>144.963058</td>\n",
       "      <td>Melbourne, Australia</td>\n",
       "    </tr>\n",
       "  </tbody>\n",
       "</table>\n",
       "</div>"
      ],
      "text/plain": [
       "         lat         lng           target_city\n",
       "0 -37.813628  144.963058  Melbourne, Australia"
      ]
     },
     "execution_count": 6,
     "metadata": {},
     "output_type": "execute_result"
    }
   ],
   "source": [
    "lat_long={}\n",
    "lat_long[\"lat\"]=lat\n",
    "lat_long[\"lng\"]=lng\n",
    "lat_long[\"target_city\"]=target_city\n",
    "\n",
    "\n",
    "place_df=pd.DataFrame([lat_long])\n",
    "place_df\n"
   ]
  },
  {
   "cell_type": "code",
   "execution_count": 7,
   "metadata": {},
   "outputs": [
    {
     "data": {
      "text/html": [
       "<div>\n",
       "<style scoped>\n",
       "    .dataframe tbody tr th:only-of-type {\n",
       "        vertical-align: middle;\n",
       "    }\n",
       "\n",
       "    .dataframe tbody tr th {\n",
       "        vertical-align: top;\n",
       "    }\n",
       "\n",
       "    .dataframe thead th {\n",
       "        text-align: right;\n",
       "    }\n",
       "</style>\n",
       "<table border=\"1\" class=\"dataframe\">\n",
       "  <thead>\n",
       "    <tr style=\"text-align: right;\">\n",
       "      <th></th>\n",
       "      <th>lat</th>\n",
       "      <th>lng</th>\n",
       "      <th>target_city</th>\n",
       "      <th>geometry</th>\n",
       "    </tr>\n",
       "  </thead>\n",
       "  <tbody>\n",
       "    <tr>\n",
       "      <th>0</th>\n",
       "      <td>-37.813628</td>\n",
       "      <td>144.963058</td>\n",
       "      <td>Melbourne, Australia</td>\n",
       "      <td>POINT (144.96306 -37.81363)</td>\n",
       "    </tr>\n",
       "  </tbody>\n",
       "</table>\n",
       "</div>"
      ],
      "text/plain": [
       "         lat         lng           target_city                     geometry\n",
       "0 -37.813628  144.963058  Melbourne, Australia  POINT (144.96306 -37.81363)"
      ]
     },
     "execution_count": 7,
     "metadata": {},
     "output_type": "execute_result"
    }
   ],
   "source": [
    "geo_place_df=gpd.GeoDataFrame(place_df,geometry=gpd.points_from_xy(place_df.lng, place_df.lat))\n",
    "geo_place_df.head()"
   ]
  },
  {
   "cell_type": "code",
   "execution_count": 8,
   "metadata": {},
   "outputs": [
    {
     "ename": "NotImplementedError",
     "evalue": "Currently, only PyGEOS >= 0.10.0 supports `nearest_all`. To use PyGEOS within GeoPandas, you need to install PyGEOS: 'conda install pygeos' or 'pip install pygeos'",
     "output_type": "error",
     "traceback": [
      "\u001b[1;31m---------------------------------------------------------------------------\u001b[0m",
      "\u001b[1;31mNotImplementedError\u001b[0m                       Traceback (most recent call last)",
      "\u001b[1;32m~\\AppData\\Local\\Temp\\ipykernel_996\\4103999677.py\u001b[0m in \u001b[0;36m<module>\u001b[1;34m\u001b[0m\n\u001b[1;32m----> 1\u001b[1;33m \u001b[0mgeo_place_df\u001b[0m\u001b[1;33m.\u001b[0m\u001b[0msjoin_nearest\u001b[0m\u001b[1;33m(\u001b[0m\u001b[0mgeo_climate_df\u001b[0m\u001b[1;33m,\u001b[0m \u001b[0mhow\u001b[0m\u001b[1;33m=\u001b[0m\u001b[1;34m'inner'\u001b[0m\u001b[1;33m)\u001b[0m\u001b[1;33m\u001b[0m\u001b[1;33m\u001b[0m\u001b[0m\n\u001b[0m",
      "\u001b[1;32mf:\\Anaconda\\envs\\bootcamp\\lib\\site-packages\\geopandas\\geodataframe.py\u001b[0m in \u001b[0;36msjoin_nearest\u001b[1;34m(self, right, how, max_distance, lsuffix, rsuffix, distance_col)\u001b[0m\n\u001b[0;32m   2055\u001b[0m             \u001b[0mlsuffix\u001b[0m\u001b[1;33m=\u001b[0m\u001b[0mlsuffix\u001b[0m\u001b[1;33m,\u001b[0m\u001b[1;33m\u001b[0m\u001b[1;33m\u001b[0m\u001b[0m\n\u001b[0;32m   2056\u001b[0m             \u001b[0mrsuffix\u001b[0m\u001b[1;33m=\u001b[0m\u001b[0mrsuffix\u001b[0m\u001b[1;33m,\u001b[0m\u001b[1;33m\u001b[0m\u001b[1;33m\u001b[0m\u001b[0m\n\u001b[1;32m-> 2057\u001b[1;33m             \u001b[0mdistance_col\u001b[0m\u001b[1;33m=\u001b[0m\u001b[0mdistance_col\u001b[0m\u001b[1;33m,\u001b[0m\u001b[1;33m\u001b[0m\u001b[1;33m\u001b[0m\u001b[0m\n\u001b[0m\u001b[0;32m   2058\u001b[0m         )\n\u001b[0;32m   2059\u001b[0m \u001b[1;33m\u001b[0m\u001b[0m\n",
      "\u001b[1;32mf:\\Anaconda\\envs\\bootcamp\\lib\\site-packages\\geopandas\\tools\\sjoin.py\u001b[0m in \u001b[0;36msjoin_nearest\u001b[1;34m(left_df, right_df, how, max_distance, lsuffix, rsuffix, distance_col)\u001b[0m\n\u001b[0;32m    517\u001b[0m     \u001b[0mreturn_distance\u001b[0m \u001b[1;33m=\u001b[0m \u001b[0mdistance_col\u001b[0m \u001b[1;32mis\u001b[0m \u001b[1;32mnot\u001b[0m \u001b[1;32mNone\u001b[0m\u001b[1;33m\u001b[0m\u001b[1;33m\u001b[0m\u001b[0m\n\u001b[0;32m    518\u001b[0m \u001b[1;33m\u001b[0m\u001b[0m\n\u001b[1;32m--> 519\u001b[1;33m     \u001b[0mjoin_df\u001b[0m \u001b[1;33m=\u001b[0m \u001b[0m_nearest_query\u001b[0m\u001b[1;33m(\u001b[0m\u001b[0mleft_df\u001b[0m\u001b[1;33m,\u001b[0m \u001b[0mright_df\u001b[0m\u001b[1;33m,\u001b[0m \u001b[0mmax_distance\u001b[0m\u001b[1;33m,\u001b[0m \u001b[0mhow\u001b[0m\u001b[1;33m,\u001b[0m \u001b[0mreturn_distance\u001b[0m\u001b[1;33m)\u001b[0m\u001b[1;33m\u001b[0m\u001b[1;33m\u001b[0m\u001b[0m\n\u001b[0m\u001b[0;32m    520\u001b[0m \u001b[1;33m\u001b[0m\u001b[0m\n\u001b[0;32m    521\u001b[0m     \u001b[1;32mif\u001b[0m \u001b[0mreturn_distance\u001b[0m\u001b[1;33m:\u001b[0m\u001b[1;33m\u001b[0m\u001b[1;33m\u001b[0m\u001b[0m\n",
      "\u001b[1;32mf:\\Anaconda\\envs\\bootcamp\\lib\\site-packages\\geopandas\\tools\\sjoin.py\u001b[0m in \u001b[0;36m_nearest_query\u001b[1;34m(left_df, right_df, max_distance, how, return_distance)\u001b[0m\n\u001b[0;32m    363\u001b[0m         raise NotImplementedError(\n\u001b[0;32m    364\u001b[0m             \u001b[1;34m\"Currently, only PyGEOS >= 0.10.0 supports `nearest_all`. \"\u001b[0m\u001b[1;33m\u001b[0m\u001b[1;33m\u001b[0m\u001b[0m\n\u001b[1;32m--> 365\u001b[1;33m             \u001b[1;33m+\u001b[0m \u001b[0mcompat\u001b[0m\u001b[1;33m.\u001b[0m\u001b[0mINSTALL_PYGEOS_ERROR\u001b[0m\u001b[1;33m\u001b[0m\u001b[1;33m\u001b[0m\u001b[0m\n\u001b[0m\u001b[0;32m    366\u001b[0m         )\n\u001b[0;32m    367\u001b[0m     \u001b[1;31m# use the opposite of the join direction for the index\u001b[0m\u001b[1;33m\u001b[0m\u001b[1;33m\u001b[0m\u001b[1;33m\u001b[0m\u001b[0m\n",
      "\u001b[1;31mNotImplementedError\u001b[0m: Currently, only PyGEOS >= 0.10.0 supports `nearest_all`. To use PyGEOS within GeoPandas, you need to install PyGEOS: 'conda install pygeos' or 'pip install pygeos'"
     ]
    }
   ],
   "source": [
    "geo_place_df.sjoin_nearest(geo_climate_df, how='inner')"
   ]
  },
  {
   "cell_type": "code",
   "execution_count": null,
   "metadata": {},
   "outputs": [
    {
     "data": {
      "text/html": [
       "<div>\n",
       "<style scoped>\n",
       "    .dataframe tbody tr th:only-of-type {\n",
       "        vertical-align: middle;\n",
       "    }\n",
       "\n",
       "    .dataframe tbody tr th {\n",
       "        vertical-align: top;\n",
       "    }\n",
       "\n",
       "    .dataframe thead th {\n",
       "        text-align: right;\n",
       "    }\n",
       "</style>\n",
       "<table border=\"1\" class=\"dataframe\">\n",
       "  <thead>\n",
       "    <tr style=\"text-align: right;\">\n",
       "      <th></th>\n",
       "      <th>Lat</th>\n",
       "      <th>Lon</th>\n",
       "    </tr>\n",
       "  </thead>\n",
       "  <tbody>\n",
       "    <tr>\n",
       "      <th>Melb</th>\n",
       "      <td>-37.8</td>\n",
       "      <td>144.9</td>\n",
       "    </tr>\n",
       "  </tbody>\n",
       "</table>\n",
       "</div>"
      ],
      "text/plain": [
       "       Lat    Lon\n",
       "Melb -37.8  144.9"
      ]
     },
     "execution_count": 23,
     "metadata": {},
     "output_type": "execute_result"
    }
   ],
   "source": [
    "place={}\n",
    "place[\"Melb\"]={}\n",
    "place[\"Melb\"][\"Lat\"]=-37.8\n",
    "place[\"Melb\"][\"Lon\"]=144.9\n",
    "place\n",
    "\n",
    "place_df=pd.DataFrame.from_dict(place, orient='index')\n",
    "place_df\n"
   ]
  },
  {
   "cell_type": "code",
   "execution_count": null,
   "metadata": {},
   "outputs": [],
   "source": []
  }
 ],
 "metadata": {
  "kernelspec": {
   "display_name": "Python 3.7.13 ('bootcamp')",
   "language": "python",
   "name": "python3"
  },
  "language_info": {
   "codemirror_mode": {
    "name": "ipython",
    "version": 3
   },
   "file_extension": ".py",
   "mimetype": "text/x-python",
   "name": "python",
   "nbconvert_exporter": "python",
   "pygments_lexer": "ipython3",
   "version": "3.7.13"
  },
  "orig_nbformat": 4,
  "vscode": {
   "interpreter": {
    "hash": "f46a3ea41c4a4970c660721f06144115104716cb52441bcd71170d52c9befc3b"
   }
  }
 },
 "nbformat": 4,
 "nbformat_minor": 2
}
