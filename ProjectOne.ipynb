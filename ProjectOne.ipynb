{
 "cells": [
  {
   "cell_type": "code",
   "execution_count": 3,
   "metadata": {},
   "outputs": [],
   "source": [
    "from config import API_Key\n",
    "import pandas as pd\n",
    "import requests\n",
    "import json"
   ]
  },
  {
   "cell_type": "code",
   "execution_count": 5,
   "metadata": {},
   "outputs": [
    {
     "name": "stdout",
     "output_type": "stream",
     "text": [
      "{\n",
      "    \"data\": {\n",
      "        \"city\": \"Los Angeles\",\n",
      "        \"country\": \"USA\",\n",
      "        \"current\": {\n",
      "            \"pollution\": {\n",
      "                \"aqicn\": 33,\n",
      "                \"aqius\": 73,\n",
      "                \"maincn\": \"p2\",\n",
      "                \"mainus\": \"p2\",\n",
      "                \"ts\": \"2022-06-16T08:00:00.000Z\"\n",
      "            },\n",
      "            \"weather\": {\n",
      "                \"hu\": 85,\n",
      "                \"ic\": \"50n\",\n",
      "                \"pr\": 1009,\n",
      "                \"tp\": 18,\n",
      "                \"ts\": \"2022-06-16T08:00:00.000Z\",\n",
      "                \"wd\": 130,\n",
      "                \"ws\": 3.09\n",
      "            }\n",
      "        },\n",
      "        \"location\": {\n",
      "            \"coordinates\": [\n",
      "                -118.2417,\n",
      "                34.0669\n",
      "            ],\n",
      "            \"type\": \"Point\"\n",
      "        },\n",
      "        \"state\": \"California\"\n",
      "    },\n",
      "    \"status\": \"success\"\n",
      "}\n"
     ]
    }
   ],
   "source": [
    "url = f\"http://api.airvisual.com/v2/city?city=Los Angeles&state=California&country=USA&key={API_Key}\"\n",
    "response=requests.get(url)\n",
    "data=response.json()\n",
    "print(json.dumps(data,indent=4,sort_keys=4))"
   ]
  }
 ],
 "metadata": {
  "kernelspec": {
   "display_name": "Python 3.9.7 ('base')",
   "language": "python",
   "name": "python3"
  },
  "language_info": {
   "codemirror_mode": {
    "name": "ipython",
    "version": 3
   },
   "file_extension": ".py",
   "mimetype": "text/x-python",
   "name": "python",
   "nbconvert_exporter": "python",
   "pygments_lexer": "ipython3",
   "version": "3.9.7"
  },
  "orig_nbformat": 4,
  "vscode": {
   "interpreter": {
    "hash": "9a92db848198fdf10fd78de7ce135afaac471ca8cff4a7a2a5d042658c958543"
   }
  }
 },
 "nbformat": 4,
 "nbformat_minor": 2
}
