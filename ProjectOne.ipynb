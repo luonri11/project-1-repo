{
 "cells": [
  {
   "cell_type": "code",
   "execution_count": 1,
   "metadata": {},
   "outputs": [],
   "source": [
    "from config import API_Key\n",
    "import pandas as pd\n",
    "import requests\n",
    "import json\n",
    "from citipy import citipy"
   ]
  },
  {
   "cell_type": "code",
   "execution_count": 5,
   "metadata": {},
   "outputs": [
    {
     "name": "stdout",
     "output_type": "stream",
     "text": [
      "{\n",
      "    \"data\": {\n",
      "        \"city\": \"Los Angeles\",\n",
      "        \"country\": \"USA\",\n",
      "        \"current\": {\n",
      "            \"pollution\": {\n",
      "                \"aqicn\": 33,\n",
      "                \"aqius\": 73,\n",
      "                \"maincn\": \"p2\",\n",
      "                \"mainus\": \"p2\",\n",
      "                \"ts\": \"2022-06-16T08:00:00.000Z\"\n",
      "            },\n",
      "            \"weather\": {\n",
      "                \"hu\": 85,\n",
      "                \"ic\": \"50n\",\n",
      "                \"pr\": 1009,\n",
      "                \"tp\": 18,\n",
      "                \"ts\": \"2022-06-16T08:00:00.000Z\",\n",
      "                \"wd\": 130,\n",
      "                \"ws\": 3.09\n",
      "            }\n",
      "        },\n",
      "        \"location\": {\n",
      "            \"coordinates\": [\n",
      "                -118.2417,\n",
      "                34.0669\n",
      "            ],\n",
      "            \"type\": \"Point\"\n",
      "        },\n",
      "        \"state\": \"California\"\n",
      "    },\n",
      "    \"status\": \"success\"\n",
      "}\n"
     ]
    }
   ],
   "source": [
    "url = f\"http://api.airvisual.com/v2/city?city=Los Angeles&state=California&country=USA&key={API_Key}\"\n",
    "response=requests.get(url)\n",
    "data=response.json()\n",
    "print(json.dumps(data,indent=4,sort_keys=4))"
   ]
  },
  {
   "cell_type": "code",
   "execution_count": null,
   "metadata": {},
   "outputs": [],
   "source": [
    "city=citipy.nearest_city()"
   ]
  },
  {
   "cell_type": "code",
   "execution_count": 11,
   "metadata": {},
   "outputs": [
    {
     "data": {
      "text/html": [
       "<div>\n",
       "<style scoped>\n",
       "    .dataframe tbody tr th:only-of-type {\n",
       "        vertical-align: middle;\n",
       "    }\n",
       "\n",
       "    .dataframe tbody tr th {\n",
       "        vertical-align: top;\n",
       "    }\n",
       "\n",
       "    .dataframe thead th {\n",
       "        text-align: right;\n",
       "    }\n",
       "</style>\n",
       "<table border=\"1\" class=\"dataframe\">\n",
       "  <thead>\n",
       "    <tr style=\"text-align: right;\">\n",
       "      <th></th>\n",
       "      <th>Lat</th>\n",
       "      <th>Lon</th>\n",
       "      <th>Cls</th>\n",
       "    </tr>\n",
       "  </thead>\n",
       "  <tbody>\n",
       "    <tr>\n",
       "      <th>0</th>\n",
       "      <td>-89.75</td>\n",
       "      <td>-179.75</td>\n",
       "      <td>EF</td>\n",
       "    </tr>\n",
       "    <tr>\n",
       "      <th>1</th>\n",
       "      <td>-89.75</td>\n",
       "      <td>-179.25</td>\n",
       "      <td>EF</td>\n",
       "    </tr>\n",
       "    <tr>\n",
       "      <th>2</th>\n",
       "      <td>-89.75</td>\n",
       "      <td>-178.75</td>\n",
       "      <td>EF</td>\n",
       "    </tr>\n",
       "    <tr>\n",
       "      <th>3</th>\n",
       "      <td>-89.75</td>\n",
       "      <td>-178.25</td>\n",
       "      <td>EF</td>\n",
       "    </tr>\n",
       "    <tr>\n",
       "      <th>4</th>\n",
       "      <td>-89.75</td>\n",
       "      <td>-177.75</td>\n",
       "      <td>EF</td>\n",
       "    </tr>\n",
       "    <tr>\n",
       "      <th>...</th>\n",
       "      <td>...</td>\n",
       "      <td>...</td>\n",
       "      <td>...</td>\n",
       "    </tr>\n",
       "    <tr>\n",
       "      <th>92411</th>\n",
       "      <td>83.75</td>\n",
       "      <td>-30.75</td>\n",
       "      <td>ET</td>\n",
       "    </tr>\n",
       "    <tr>\n",
       "      <th>92412</th>\n",
       "      <td>83.75</td>\n",
       "      <td>-30.25</td>\n",
       "      <td>ET</td>\n",
       "    </tr>\n",
       "    <tr>\n",
       "      <th>92413</th>\n",
       "      <td>83.75</td>\n",
       "      <td>-29.75</td>\n",
       "      <td>ET</td>\n",
       "    </tr>\n",
       "    <tr>\n",
       "      <th>92414</th>\n",
       "      <td>83.75</td>\n",
       "      <td>-29.25</td>\n",
       "      <td>ET</td>\n",
       "    </tr>\n",
       "    <tr>\n",
       "      <th>92415</th>\n",
       "      <td>83.75</td>\n",
       "      <td>-28.75</td>\n",
       "      <td>ET</td>\n",
       "    </tr>\n",
       "  </tbody>\n",
       "</table>\n",
       "<p>92416 rows × 3 columns</p>\n",
       "</div>"
      ],
      "text/plain": [
       "         Lat     Lon Cls\n",
       "0     -89.75 -179.75  EF\n",
       "1     -89.75 -179.25  EF\n",
       "2     -89.75 -178.75  EF\n",
       "3     -89.75 -178.25  EF\n",
       "4     -89.75 -177.75  EF\n",
       "...      ...     ...  ..\n",
       "92411  83.75  -30.75  ET\n",
       "92412  83.75  -30.25  ET\n",
       "92413  83.75  -29.75  ET\n",
       "92414  83.75  -29.25  ET\n",
       "92415  83.75  -28.75  ET\n",
       "\n",
       "[92416 rows x 3 columns]"
      ]
     },
     "execution_count": 11,
     "metadata": {},
     "output_type": "execute_result"
    }
   ],
   "source": [
    "filepath=\"Climate_Data/ClimateClassifications.csv\"\n",
    "climate_df=pd.read_csv(filepath)\n",
    "climate_df"
   ]
  },
  {
   "cell_type": "code",
   "execution_count": 17,
   "metadata": {},
   "outputs": [
    {
     "data": {
      "text/html": [
       "<div>\n",
       "<style scoped>\n",
       "    .dataframe tbody tr th:only-of-type {\n",
       "        vertical-align: middle;\n",
       "    }\n",
       "\n",
       "    .dataframe tbody tr th {\n",
       "        vertical-align: top;\n",
       "    }\n",
       "\n",
       "    .dataframe thead th {\n",
       "        text-align: right;\n",
       "    }\n",
       "</style>\n",
       "<table border=\"1\" class=\"dataframe\">\n",
       "  <thead>\n",
       "    <tr style=\"text-align: right;\">\n",
       "      <th></th>\n",
       "      <th>Lat</th>\n",
       "      <th>Lon</th>\n",
       "    </tr>\n",
       "  </thead>\n",
       "  <tbody>\n",
       "    <tr>\n",
       "      <th>Melb</th>\n",
       "      <td>-37.8</td>\n",
       "      <td>144.9</td>\n",
       "    </tr>\n",
       "  </tbody>\n",
       "</table>\n",
       "</div>"
      ],
      "text/plain": [
       "       Lat    Lon\n",
       "Melb -37.8  144.9"
      ]
     },
     "execution_count": 17,
     "metadata": {},
     "output_type": "execute_result"
    }
   ],
   "source": [
    "place={}\n",
    "place[\"Melb\"]={}\n",
    "place[\"Melb\"][\"Lat\"]=-37.8\n",
    "place[\"Melb\"][\"Lon\"]=144.9\n",
    "place\n",
    "place_df=pd.DataFrame.from_dict(place, orient='index')\n",
    "place_df\n",
    "\n",
    "\n",
    "\n"
   ]
  }
 ],
 "metadata": {
  "kernelspec": {
   "display_name": "Python 3.7.13 ('bootcamp')",
   "language": "python",
   "name": "python3"
  },
  "language_info": {
   "codemirror_mode": {
    "name": "ipython",
    "version": 3
   },
   "file_extension": ".py",
   "mimetype": "text/x-python",
   "name": "python",
   "nbconvert_exporter": "python",
   "pygments_lexer": "ipython3",
   "version": "3.7.13"
  },
  "orig_nbformat": 4,
  "vscode": {
   "interpreter": {
    "hash": "e834e117ad6170a16e9aa79a7128050afa5842ddb369bed43b3a8934f5e0078c"
   }
  }
 },
 "nbformat": 4,
 "nbformat_minor": 2
}
